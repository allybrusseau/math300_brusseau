{
 "cells": [
  {
   "cell_type": "markdown",
   "metadata": {},
   "source": [
    "## Computing the symbolic definite integral"
   ]
  },
  {
   "cell_type": "code",
   "execution_count": 1,
   "metadata": {
    "collapsed": true
   },
   "outputs": [],
   "source": [
    "import sympy as symp\n",
    "import numpy as np\n",
    "import matplotlib.pyplot as plt"
   ]
  },
  {
   "cell_type": "code",
   "execution_count": 2,
   "metadata": {},
   "outputs": [
    {
     "data": {
      "text/plain": [
       "84.4163716059116"
      ]
     },
     "execution_count": 2,
     "metadata": {},
     "output_type": "execute_result"
    }
   ],
   "source": [
    "x = symp.symbols('x')\n",
    "expr = x**3 * symp.sin(4*x)\n",
    "res = symp.integrate(expr, (x, 1, 7))\n",
    "ans = res.evalf()\n",
    "res.evalf()"
   ]
  },
  {
   "cell_type": "markdown",
   "metadata": {},
   "source": [
    "used class notes in order to take the integral of the function and got 84.4 as my answer."
   ]
  },
  {
   "cell_type": "markdown",
   "metadata": {},
   "source": [
    "## Implement monte carlo integrator"
   ]
  },
  {
   "cell_type": "code",
   "execution_count": 3,
   "metadata": {
    "collapsed": true
   },
   "outputs": [],
   "source": [
    "def mcintegrate(a,b,n,f):\n",
    "    np.random.seed(1)\n",
    "    sum = 0\n",
    "    c = b-a\n",
    "    for i in range(1, n+1):\n",
    "        r = np.random.rand()*(b-a)+a\n",
    "        sum += f(r)\n",
    "    return (c/i)*sum"
   ]
  },
  {
   "cell_type": "code",
   "execution_count": 4,
   "metadata": {
    "collapsed": true
   },
   "outputs": [],
   "source": [
    "n=100000\n",
    "f=symp.lambdify(x,expr)\n",
    "err_list = []\n",
    "for i in range(1000, n+1, 1000):\n",
    "    err = np.abs(ans - mcintegrate(1, 7, i, f))\n",
    "    err_list.append(err)\n"
   ]
  },
  {
   "cell_type": "markdown",
   "metadata": {},
   "source": [
    "With these functions I defined mcintegrate in the top cell. The bottom cell I defined the 4 loop that is hidden within mcintegrate so that it could properly plot the function.\n",
    "\n",
    "The mcintegrate function returns the approximate numerical integration for the equation I defined above. The Monte Carlo method is a different approach to doing the basic integral method but contains a loop because of the summation. I defined the mcintegrate to run from 1 to 100,000 and used the random number generator to change my bounds on the function. Within the loop I defined the function range to go in steps of 1000. I also wanted to subtract my answer of 84 from the mcintegrate function in order to find the proper error amounts."
   ]
  },
  {
   "cell_type": "markdown",
   "metadata": {},
   "source": [
    "## Error plot"
   ]
  },
  {
   "cell_type": "code",
   "execution_count": 6,
   "metadata": {},
   "outputs": [
    {
     "data": {
      "image/png": "[encoded data removed]",
      "text/plain": [
       "<matplotlib.figure.Figure at 0x154b84fc4e0>"
      ]
     },
     "metadata": {},
     "output_type": "display_data"
    }
   ],
   "source": [
    "xpts=[x for x in range(1, n+1, 1000)]\n",
    "plt.plot(xpts, err_list, 'r-')\n",
    "plt.xlabel('Number of Samples')\n",
    "plt.ylabel('Error')\n",
    "plt.title('Monte Carlo Integration Error')\n",
    "plt.show()"
   ]
  },
  {
   "cell_type": "code",
   "execution_count": null,
   "metadata": {
    "collapsed": true
   },
   "outputs": [],
   "source": []
  }
 ],
 "metadata": {
  "kernelspec": {
   "display_name": "Python 3",
   "language": "python",
   "name": "python3"
  },
  "language_info": {
   "codemirror_mode": {
    "name": "ipython",
    "version": 3
   },
   "file_extension": ".py",
   "mimetype": "text/x-python",
   "name": "python",
   "nbconvert_exporter": "python",
   "pygments_lexer": "ipython3",
   "version": "3.6.1"
  }
 },
 "nbformat": 4,
 "nbformat_minor": 2
}
