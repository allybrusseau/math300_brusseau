{
 "cells": [
  {
   "cell_type": "markdown",
   "metadata": {},
   "source": [
    "# Homework 8: I/O and data structures practice"
   ]
  },
  {
   "cell_type": "markdown",
   "metadata": {},
   "source": [
    "## Goal"
   ]
  },
  {
   "cell_type": "markdown",
   "metadata": {},
   "source": [
    "In this assignment we will practice working with files, more practice with dictionaries, and performing some basic geometric computations. Recall earlier in the course I walked through an example of processing retail data where we\n",
    "had data about a set of products in a store, and the set of baskets that people bought.  We will work\n",
    "with that and extend it a little for this assignment.  Our working data will be the following:\n",
    "\n",
    "- _Product inventory_: This will be a table of products where each row corresponds to one product, and each column represents a property of the objects.  Specifically, our product inventory table will have five columns: a unique product ID, a text description of the product, a unit price in dollars, an X coordinate, and a Y coordinate.\n",
    "\n",
    "- _Sales data_: This will be a table of records from the point of sale system.  Each row will correspond to an item in a basket.  The columns will be the basket ID, the product ID, product quantity, and the product pick up order.  The product pick up order for a basket containing $n$ items will range from 1 to $n$ and corresponds to the order that the customer picked up the products as they went through the store.\n",
    "\n",
    "We will also be provided additional parameters about the store.  Specifically, we will be given the X,Y\n",
    "coordinates of the entry door, the checkout stand, and the exit door.  We are going to assume that this\n",
    "store has only one checkout line and all customers are good at following signs and always use the appropriate door for entry and exit.  We are also going to assume that customers have the magical ability to teleport through shelves so that they can take the shortest path from one product to the next, allowing us to avoid worrying about complex calculations of the distance between any two products.\n",
    "\n",
    "The coordinates of the entrance, exit, and checkout are:"
   ]
  },
  {
   "cell_type": "code",
   "execution_count": 1,
   "metadata": {
    "collapsed": true
   },
   "outputs": [],
   "source": [
    "store_entrance = (10,0)\n",
    "store_exit = (90,0)\n",
    "store_checkout = (50,10)"
   ]
  },
  {
   "cell_type": "markdown",
   "metadata": {},
   "source": [
    "## Sample I/O code"
   ]
  },
  {
   "cell_type": "markdown",
   "metadata": {},
   "source": [
    "To get you started, here is code that reads in the inventory data from the CSV file and produces a dictionary of dictionaries.  The outer dictionary maps product IDs as strings to the inner dictionary, and the inner dictionary for each product maps an attribute (e.g., 'unit_price') to its value.  Numerical values are stored as floating point numbers, _not strings_."
   ]
  },
  {
   "cell_type": "code",
   "execution_count": 2,
   "metadata": {
    "collapsed": true
   },
   "outputs": [],
   "source": [
    "import csv"
   ]
  },
  {
   "cell_type": "code",
   "execution_count": 6,
   "metadata": {
    "collapsed": true
   },
   "outputs": [],
   "source": [
    "def read_inventory(filename):\n",
    "    # initialize empty dict\n",
    "    inventory={}\n",
    "    \n",
    "    # open the given file and name the file handle f\n",
    "    with open(filename) as f:\n",
    "        # create a CSV reader object from the file\n",
    "        reader = csv.reader(f)\n",
    "        \n",
    "        # advance the reader to skip the first header line\n",
    "        next(reader)\n",
    "        \n",
    "        # for each row in the CSV file, create the appropriate\n",
    "        # entry in the inventory.  this includes converting the\n",
    "        # strings for price, x, and y into floats so we can do\n",
    "        # arithmetic with them later.\n",
    "        for row in reader:\n",
    "            inventory[row[0]] = { 'desc':row[1],\n",
    "                                  'unit_price':float(row[2]),\n",
    "                                  'x':float(row[3]),\n",
    "                                  'y':float(row[4]) }\n",
    "            \n",
    "        return inventory"
   ]
  },
  {
   "cell_type": "code",
   "execution_count": 8,
   "metadata": {},
   "outputs": [],
   "source": [
    "inventory = read_inventory('inventory.csv')"
   ]
  },
  {
   "cell_type": "markdown",
   "metadata": {},
   "source": [
    "Test it: what is the price of product ID 4?"
   ]
  },
  {
   "cell_type": "code",
   "execution_count": 9,
   "metadata": {},
   "outputs": [
    {
     "data": {
      "text/plain": [
       "0.39"
      ]
     },
     "execution_count": 9,
     "metadata": {},
     "output_type": "execute_result"
    }
   ],
   "source": [
    "inventory['4']['unit_price']"
   ]
  },
  {
   "cell_type": "markdown",
   "metadata": {},
   "source": [
    "## Part 1: read the basket data"
   ]
  },
  {
   "cell_type": "markdown",
   "metadata": {},
   "source": [
    "Complete the following function to return a dictionary mapping basket ID to some data structure of your choice to represent the basket contents."
   ]
  },
  {
   "cell_type": "code",
   "execution_count": 28,
   "metadata": {},
   "outputs": [],
   "source": [
    "def read_baskets(filename):\n",
    "    baskets = {}\n",
    "    f = open(filename)\n",
    "    lines = f.readlines()\n",
    "    for line in lines[1:]:\n",
    "        parts = line[:-1].split(',')\n",
    "        \n",
    "        if parts[0] in baskets:\n",
    "            baskets[parts[0]].append( (parts[1], int(parts[2]), int(parts[3]) ) )\n",
    "        else:\n",
    "            baskets[parts[0]] = [(parts[1], int(parts[2]), int(parts[3]))]\n",
    "\n",
    "    f.close()\n",
    "    for item in baskets:\n",
    "        baskets[item]=sorted(baskets[item], key=lambda x:x[2])\n",
    "    return baskets"
   ]
  },
  {
   "cell_type": "code",
   "execution_count": 29,
   "metadata": {},
   "outputs": [
    {
     "data": {
      "text/plain": [
       "{'1': [('1', 2, 1), ('3', 1, 2)],\n",
       " '10': [('1', 1, 1), ('3', 2, 2), ('7', 1, 3), ('5', 2, 4)],\n",
       " '2': [('1', 3, 1), ('4', 1, 2), ('3', 1, 3), ('11', 3, 4)],\n",
       " '3': [('6', 2, 1), ('5', 2, 2), ('13', 1, 3)],\n",
       " '4': [('7', 1, 1),\n",
       "  ('10', 2, 2),\n",
       "  ('3', 1, 3),\n",
       "  ('8', 1, 4),\n",
       "  ('12', 2, 5),\n",
       "  ('9', 1, 6)],\n",
       " '5': [('2', 8, 1), ('4', 8, 2), ('3', 8, 3), ('1', 8, 4)],\n",
       " '6': [('3', 2, 1), ('4', 2, 2), ('1', 2, 3), ('2', 1, 4)],\n",
       " '7': [('13', 1, 1), ('9', 1, 2)],\n",
       " '8': [('7', 1, 1)],\n",
       " '9': [('8', 3, 1), ('6', 1, 2), ('4', 4, 3), ('12', 1, 4), ('7', 1, 5)]}"
      ]
     },
     "execution_count": 29,
     "metadata": {},
     "output_type": "execute_result"
    }
   ],
   "source": [
    "baskets = read_baskets('baskets.csv')\n",
    "baskets"
   ]
  },
  {
   "cell_type": "markdown",
   "metadata": {},
   "source": [
    "## Part 2: Calculate the path length of each customer"
   ]
  },
  {
   "cell_type": "markdown",
   "metadata": {},
   "source": [
    "Given the basket data and inventory data, write a function that calculates the distance traveled by a customer through the store.  Their trip should go entry -> first product -> second product -> ... -> checkout -> exit.  You should assume that the customer takes a straight path from each point to the next."
   ]
  },
  {
   "cell_type": "code",
   "execution_count": 32,
   "metadata": {},
   "outputs": [],
   "source": [
    "from math import sqrt\n",
    "def euclid_distance(pt1, pt2):\n",
    "    x_diff=pt1[0]-pt2[0]\n",
    "    y_diff=pt1[1]-pt2[1]\n",
    "    return sqrt(x_diff**2+y_diff**2)"
   ]
  },
  {
   "cell_type": "code",
   "execution_count": 56,
   "metadata": {},
   "outputs": [],
   "source": [
    "def customer_trip(inventory, baskets, basket_id):\n",
    "    dist=0\n",
    "    pts=[]\n",
    "    pts.append(store_entrance)\n",
    "    try:\n",
    "        for item in baskets [basket_id]:\n",
    "            product=item[0]\n",
    "            pts.append((inventory[product]['x'],inventory[product]['y']))\n",
    "        pts.append(store_checkout)\n",
    "        pts.append(store_exit)\n",
    "    except KeyError:\n",
    "        pts.append(store_exit)\n",
    "        \n",
    "    for d in range (1, len(pts)):\n",
    "        dist += euclid_distance(pts[d], pts[d-1])\n",
    "    return dist"
   ]
  },
  {
   "cell_type": "code",
   "execution_count": 57,
   "metadata": {},
   "outputs": [
    {
     "data": {
      "text/plain": [
       "373.4229596034474"
      ]
     },
     "execution_count": 57,
     "metadata": {},
     "output_type": "execute_result"
    }
   ],
   "source": [
    "basket_id='4'\n",
    "customer_trip(inventory, baskets, basket_id)"
   ]
  },
  {
   "cell_type": "markdown",
   "metadata": {},
   "source": [
    "## Part 3: Calculate the total price for each basket"
   ]
  },
  {
   "cell_type": "markdown",
   "metadata": {},
   "source": [
    "Given the basket and inventory data, write a function that calculates the total cost of a basket."
   ]
  },
  {
   "cell_type": "code",
   "execution_count": 63,
   "metadata": {},
   "outputs": [],
   "source": [
    "def basket_total(inventory, baskets, basket_id):\n",
    "    total_price=0\n",
    "    for item in baskets [basket_id]:\n",
    "        product=item[0]\n",
    "        quantity=item[1]\n",
    "        total_price += inventory[product]['unit_price']*quantity\n",
    "    return total_price"
   ]
  },
  {
   "cell_type": "code",
   "execution_count": 64,
   "metadata": {},
   "outputs": [
    {
     "data": {
      "text/plain": [
       "29.43"
      ]
     },
     "execution_count": 64,
     "metadata": {},
     "output_type": "execute_result"
    }
   ],
   "source": [
    "basket_id='4'\n",
    "basket_total(inventory, baskets, basket_id)"
   ]
  },
  {
   "cell_type": "markdown",
   "metadata": {},
   "source": [
    "## Part 4: Calculate the price per unit of distance traveled for all baskets"
   ]
  },
  {
   "cell_type": "markdown",
   "metadata": {},
   "source": [
    "For each basket we have a distance traveled and a total price.  Write a function that returns a dictionary mapping the basket ID to the price per unit distance travelled."
   ]
  },
  {
   "cell_type": "code",
   "execution_count": 69,
   "metadata": {
    "collapsed": true
   },
   "outputs": [],
   "source": [
    "def price_distance_calculate(inventory, baskets):\n",
    "    price_distance_dict = {}\n",
    "    for key in baskets:\n",
    "        price = basket_total(inventory, baskets, key)\n",
    "        distance = customer_trip(inventory, baskets, key)\n",
    "        price_distance = price/distance\n",
    "        price_distance_dict[key]=price_distance\n",
    "    return price_distance_dict"
   ]
  },
  {
   "cell_type": "code",
   "execution_count": 70,
   "metadata": {},
   "outputs": [
    {
     "data": {
      "text/plain": [
       "{'1': 0.0091229257242453,\n",
       " '10': 0.032153884764837576,\n",
       " '2': 0.06942077638079959,\n",
       " '3': 0.09012356902592947,\n",
       " '4': 0.07881143685233731,\n",
       " '5': 0.07312101528805648,\n",
       " '6': 0.017302536628741667,\n",
       " '7': 0.055204158287642274,\n",
       " '8': 0.00905699668841218,\n",
       " '9': 0.06571221581998327}"
      ]
     },
     "execution_count": 70,
     "metadata": {},
     "output_type": "execute_result"
    }
   ],
   "source": [
    "price_distance_calculate(inventory, baskets)"
   ]
  },
  {
   "cell_type": "markdown",
   "metadata": {},
   "source": [
    "## Part 5: EXTRA CREDIT.  \n",
    "\n",
    "### Calculate the difference between the length of the path each customer took versus the shortest path they could have taken."
   ]
  },
  {
   "cell_type": "markdown",
   "metadata": {},
   "source": [
    "Each customer may have travelled the store inefficiently.  We would like to know the excess distance each customer covered versus what they could have done had they planned their trip more carefully.  Write a function that calculates the shortest path that a customer could have taken."
   ]
  },
  {
   "cell_type": "code",
   "execution_count": null,
   "metadata": {
    "collapsed": true
   },
   "outputs": [],
   "source": [
    "def customer_shortest_trip(inventory, baskets, basket_id):\n",
    "    # fill me in\n",
    "    pass"
   ]
  },
  {
   "cell_type": "code",
   "execution_count": 18,
   "metadata": {},
   "outputs": [
    {
     "data": {
      "text/html": [
       "<div>\n",
       "<style>\n",
       "    .dataframe thead tr:only-child th {\n",
       "        text-align: right;\n",
       "    }\n",
       "\n",
       "    .dataframe thead th {\n",
       "        text-align: left;\n",
       "    }\n",
       "\n",
       "    .dataframe tbody tr th {\n",
       "        vertical-align: top;\n",
       "    }\n",
       "</style>\n",
       "<table border=\"1\" class=\"dataframe\">\n",
       "  <thead>\n",
       "    <tr style=\"text-align: right;\">\n",
       "      <th></th>\n",
       "      <th>product id</th>\n",
       "      <th>description</th>\n",
       "      <th>unit price</th>\n",
       "      <th>x</th>\n",
       "      <th>y</th>\n",
       "    </tr>\n",
       "  </thead>\n",
       "  <tbody>\n",
       "    <tr>\n",
       "      <th>0</th>\n",
       "      <td>1</td>\n",
       "      <td>banana</td>\n",
       "      <td>0.49</td>\n",
       "      <td>4</td>\n",
       "      <td>80</td>\n",
       "    </tr>\n",
       "    <tr>\n",
       "      <th>1</th>\n",
       "      <td>2</td>\n",
       "      <td>apple</td>\n",
       "      <td>0.49</td>\n",
       "      <td>4</td>\n",
       "      <td>70</td>\n",
       "    </tr>\n",
       "    <tr>\n",
       "      <th>2</th>\n",
       "      <td>3</td>\n",
       "      <td>cucumber</td>\n",
       "      <td>0.99</td>\n",
       "      <td>30</td>\n",
       "      <td>75</td>\n",
       "    </tr>\n",
       "    <tr>\n",
       "      <th>3</th>\n",
       "      <td>4</td>\n",
       "      <td>onion</td>\n",
       "      <td>0.39</td>\n",
       "      <td>30</td>\n",
       "      <td>65</td>\n",
       "    </tr>\n",
       "    <tr>\n",
       "      <th>4</th>\n",
       "      <td>5</td>\n",
       "      <td>potato chips</td>\n",
       "      <td>1.99</td>\n",
       "      <td>30</td>\n",
       "      <td>55</td>\n",
       "    </tr>\n",
       "    <tr>\n",
       "      <th>5</th>\n",
       "      <td>6</td>\n",
       "      <td>coca cola classic 6-pack</td>\n",
       "      <td>3.99</td>\n",
       "      <td>25</td>\n",
       "      <td>30</td>\n",
       "    </tr>\n",
       "    <tr>\n",
       "      <th>6</th>\n",
       "      <td>7</td>\n",
       "      <td>whole milk</td>\n",
       "      <td>1.99</td>\n",
       "      <td>50</td>\n",
       "      <td>90</td>\n",
       "    </tr>\n",
       "    <tr>\n",
       "      <th>7</th>\n",
       "      <td>8</td>\n",
       "      <td>whole wheat fig bars</td>\n",
       "      <td>4.99</td>\n",
       "      <td>60</td>\n",
       "      <td>75</td>\n",
       "    </tr>\n",
       "    <tr>\n",
       "      <th>8</th>\n",
       "      <td>9</td>\n",
       "      <td>taco shells</td>\n",
       "      <td>3.50</td>\n",
       "      <td>60</td>\n",
       "      <td>65</td>\n",
       "    </tr>\n",
       "    <tr>\n",
       "      <th>9</th>\n",
       "      <td>10</td>\n",
       "      <td>ground beef 1lb</td>\n",
       "      <td>3.99</td>\n",
       "      <td>60</td>\n",
       "      <td>55</td>\n",
       "    </tr>\n",
       "    <tr>\n",
       "      <th>10</th>\n",
       "      <td>11</td>\n",
       "      <td>cheddar cheese</td>\n",
       "      <td>5.00</td>\n",
       "      <td>75</td>\n",
       "      <td>30</td>\n",
       "    </tr>\n",
       "    <tr>\n",
       "      <th>11</th>\n",
       "      <td>12</td>\n",
       "      <td>salsa</td>\n",
       "      <td>4.99</td>\n",
       "      <td>96</td>\n",
       "      <td>80</td>\n",
       "    </tr>\n",
       "    <tr>\n",
       "      <th>12</th>\n",
       "      <td>13</td>\n",
       "      <td>coffee</td>\n",
       "      <td>9.99</td>\n",
       "      <td>96</td>\n",
       "      <td>70</td>\n",
       "    </tr>\n",
       "  </tbody>\n",
       "</table>\n",
       "</div>"
      ],
      "text/plain": [
       "    product id               description  unit price   x   y\n",
       "0            1                    banana        0.49   4  80\n",
       "1            2                     apple        0.49   4  70\n",
       "2            3                  cucumber        0.99  30  75\n",
       "3            4                     onion        0.39  30  65\n",
       "4            5              potato chips        1.99  30  55\n",
       "5            6  coca cola classic 6-pack        3.99  25  30\n",
       "6            7                whole milk        1.99  50  90\n",
       "7            8      whole wheat fig bars        4.99  60  75\n",
       "8            9               taco shells        3.50  60  65\n",
       "9           10           ground beef 1lb        3.99  60  55\n",
       "10          11            cheddar cheese        5.00  75  30\n",
       "11          12                     salsa        4.99  96  80\n",
       "12          13                    coffee        9.99  96  70"
      ]
     },
     "execution_count": 18,
     "metadata": {},
     "output_type": "execute_result"
    }
   ],
   "source": [
    "import pandas as pd\n",
    "\n",
    "df_baskets = pd.read_csv('baskets.csv')\n",
    "df_inventory = pd.read_csv('inventory.csv')\n",
    "df_inventory"
   ]
  },
  {
   "cell_type": "code",
   "execution_count": 19,
   "metadata": {},
   "outputs": [
    {
     "data": {
      "text/html": [
       "<div>\n",
       "<style>\n",
       "    .dataframe thead tr:only-child th {\n",
       "        text-align: right;\n",
       "    }\n",
       "\n",
       "    .dataframe thead th {\n",
       "        text-align: left;\n",
       "    }\n",
       "\n",
       "    .dataframe tbody tr th {\n",
       "        vertical-align: top;\n",
       "    }\n",
       "</style>\n",
       "<table border=\"1\" class=\"dataframe\">\n",
       "  <thead>\n",
       "    <tr style=\"text-align: right;\">\n",
       "      <th></th>\n",
       "      <th>basket id</th>\n",
       "      <th>product id</th>\n",
       "      <th>quantity</th>\n",
       "      <th>pickup order</th>\n",
       "    </tr>\n",
       "  </thead>\n",
       "  <tbody>\n",
       "    <tr>\n",
       "      <th>0</th>\n",
       "      <td>1</td>\n",
       "      <td>1</td>\n",
       "      <td>2</td>\n",
       "      <td>1</td>\n",
       "    </tr>\n",
       "    <tr>\n",
       "      <th>1</th>\n",
       "      <td>1</td>\n",
       "      <td>3</td>\n",
       "      <td>1</td>\n",
       "      <td>2</td>\n",
       "    </tr>\n",
       "    <tr>\n",
       "      <th>2</th>\n",
       "      <td>2</td>\n",
       "      <td>1</td>\n",
       "      <td>3</td>\n",
       "      <td>1</td>\n",
       "    </tr>\n",
       "    <tr>\n",
       "      <th>3</th>\n",
       "      <td>2</td>\n",
       "      <td>4</td>\n",
       "      <td>1</td>\n",
       "      <td>2</td>\n",
       "    </tr>\n",
       "    <tr>\n",
       "      <th>4</th>\n",
       "      <td>2</td>\n",
       "      <td>3</td>\n",
       "      <td>1</td>\n",
       "      <td>3</td>\n",
       "    </tr>\n",
       "    <tr>\n",
       "      <th>5</th>\n",
       "      <td>2</td>\n",
       "      <td>11</td>\n",
       "      <td>3</td>\n",
       "      <td>4</td>\n",
       "    </tr>\n",
       "    <tr>\n",
       "      <th>6</th>\n",
       "      <td>3</td>\n",
       "      <td>13</td>\n",
       "      <td>1</td>\n",
       "      <td>3</td>\n",
       "    </tr>\n",
       "    <tr>\n",
       "      <th>7</th>\n",
       "      <td>3</td>\n",
       "      <td>5</td>\n",
       "      <td>2</td>\n",
       "      <td>2</td>\n",
       "    </tr>\n",
       "    <tr>\n",
       "      <th>8</th>\n",
       "      <td>3</td>\n",
       "      <td>6</td>\n",
       "      <td>2</td>\n",
       "      <td>1</td>\n",
       "    </tr>\n",
       "    <tr>\n",
       "      <th>9</th>\n",
       "      <td>4</td>\n",
       "      <td>7</td>\n",
       "      <td>1</td>\n",
       "      <td>1</td>\n",
       "    </tr>\n",
       "    <tr>\n",
       "      <th>10</th>\n",
       "      <td>4</td>\n",
       "      <td>3</td>\n",
       "      <td>1</td>\n",
       "      <td>3</td>\n",
       "    </tr>\n",
       "    <tr>\n",
       "      <th>11</th>\n",
       "      <td>4</td>\n",
       "      <td>12</td>\n",
       "      <td>2</td>\n",
       "      <td>5</td>\n",
       "    </tr>\n",
       "    <tr>\n",
       "      <th>12</th>\n",
       "      <td>4</td>\n",
       "      <td>10</td>\n",
       "      <td>2</td>\n",
       "      <td>2</td>\n",
       "    </tr>\n",
       "    <tr>\n",
       "      <th>13</th>\n",
       "      <td>4</td>\n",
       "      <td>8</td>\n",
       "      <td>1</td>\n",
       "      <td>4</td>\n",
       "    </tr>\n",
       "    <tr>\n",
       "      <th>14</th>\n",
       "      <td>4</td>\n",
       "      <td>9</td>\n",
       "      <td>1</td>\n",
       "      <td>6</td>\n",
       "    </tr>\n",
       "    <tr>\n",
       "      <th>15</th>\n",
       "      <td>5</td>\n",
       "      <td>1</td>\n",
       "      <td>8</td>\n",
       "      <td>4</td>\n",
       "    </tr>\n",
       "    <tr>\n",
       "      <th>16</th>\n",
       "      <td>5</td>\n",
       "      <td>2</td>\n",
       "      <td>8</td>\n",
       "      <td>1</td>\n",
       "    </tr>\n",
       "    <tr>\n",
       "      <th>17</th>\n",
       "      <td>5</td>\n",
       "      <td>3</td>\n",
       "      <td>8</td>\n",
       "      <td>3</td>\n",
       "    </tr>\n",
       "    <tr>\n",
       "      <th>18</th>\n",
       "      <td>5</td>\n",
       "      <td>4</td>\n",
       "      <td>8</td>\n",
       "      <td>2</td>\n",
       "    </tr>\n",
       "    <tr>\n",
       "      <th>19</th>\n",
       "      <td>6</td>\n",
       "      <td>4</td>\n",
       "      <td>2</td>\n",
       "      <td>2</td>\n",
       "    </tr>\n",
       "    <tr>\n",
       "      <th>20</th>\n",
       "      <td>6</td>\n",
       "      <td>3</td>\n",
       "      <td>2</td>\n",
       "      <td>1</td>\n",
       "    </tr>\n",
       "    <tr>\n",
       "      <th>21</th>\n",
       "      <td>6</td>\n",
       "      <td>2</td>\n",
       "      <td>1</td>\n",
       "      <td>4</td>\n",
       "    </tr>\n",
       "    <tr>\n",
       "      <th>22</th>\n",
       "      <td>6</td>\n",
       "      <td>1</td>\n",
       "      <td>2</td>\n",
       "      <td>3</td>\n",
       "    </tr>\n",
       "    <tr>\n",
       "      <th>23</th>\n",
       "      <td>7</td>\n",
       "      <td>13</td>\n",
       "      <td>1</td>\n",
       "      <td>1</td>\n",
       "    </tr>\n",
       "    <tr>\n",
       "      <th>24</th>\n",
       "      <td>7</td>\n",
       "      <td>9</td>\n",
       "      <td>1</td>\n",
       "      <td>2</td>\n",
       "    </tr>\n",
       "    <tr>\n",
       "      <th>25</th>\n",
       "      <td>8</td>\n",
       "      <td>7</td>\n",
       "      <td>1</td>\n",
       "      <td>1</td>\n",
       "    </tr>\n",
       "    <tr>\n",
       "      <th>26</th>\n",
       "      <td>9</td>\n",
       "      <td>7</td>\n",
       "      <td>1</td>\n",
       "      <td>5</td>\n",
       "    </tr>\n",
       "    <tr>\n",
       "      <th>27</th>\n",
       "      <td>9</td>\n",
       "      <td>8</td>\n",
       "      <td>3</td>\n",
       "      <td>1</td>\n",
       "    </tr>\n",
       "    <tr>\n",
       "      <th>28</th>\n",
       "      <td>9</td>\n",
       "      <td>6</td>\n",
       "      <td>1</td>\n",
       "      <td>2</td>\n",
       "    </tr>\n",
       "    <tr>\n",
       "      <th>29</th>\n",
       "      <td>9</td>\n",
       "      <td>4</td>\n",
       "      <td>4</td>\n",
       "      <td>3</td>\n",
       "    </tr>\n",
       "    <tr>\n",
       "      <th>30</th>\n",
       "      <td>9</td>\n",
       "      <td>12</td>\n",
       "      <td>1</td>\n",
       "      <td>4</td>\n",
       "    </tr>\n",
       "    <tr>\n",
       "      <th>31</th>\n",
       "      <td>10</td>\n",
       "      <td>1</td>\n",
       "      <td>1</td>\n",
       "      <td>1</td>\n",
       "    </tr>\n",
       "    <tr>\n",
       "      <th>32</th>\n",
       "      <td>10</td>\n",
       "      <td>3</td>\n",
       "      <td>2</td>\n",
       "      <td>2</td>\n",
       "    </tr>\n",
       "    <tr>\n",
       "      <th>33</th>\n",
       "      <td>10</td>\n",
       "      <td>5</td>\n",
       "      <td>2</td>\n",
       "      <td>4</td>\n",
       "    </tr>\n",
       "    <tr>\n",
       "      <th>34</th>\n",
       "      <td>10</td>\n",
       "      <td>7</td>\n",
       "      <td>1</td>\n",
       "      <td>3</td>\n",
       "    </tr>\n",
       "  </tbody>\n",
       "</table>\n",
       "</div>"
      ],
      "text/plain": [
       "    basket id  product id  quantity  pickup order\n",
       "0           1           1         2             1\n",
       "1           1           3         1             2\n",
       "2           2           1         3             1\n",
       "3           2           4         1             2\n",
       "4           2           3         1             3\n",
       "5           2          11         3             4\n",
       "6           3          13         1             3\n",
       "7           3           5         2             2\n",
       "8           3           6         2             1\n",
       "9           4           7         1             1\n",
       "10          4           3         1             3\n",
       "11          4          12         2             5\n",
       "12          4          10         2             2\n",
       "13          4           8         1             4\n",
       "14          4           9         1             6\n",
       "15          5           1         8             4\n",
       "16          5           2         8             1\n",
       "17          5           3         8             3\n",
       "18          5           4         8             2\n",
       "19          6           4         2             2\n",
       "20          6           3         2             1\n",
       "21          6           2         1             4\n",
       "22          6           1         2             3\n",
       "23          7          13         1             1\n",
       "24          7           9         1             2\n",
       "25          8           7         1             1\n",
       "26          9           7         1             5\n",
       "27          9           8         3             1\n",
       "28          9           6         1             2\n",
       "29          9           4         4             3\n",
       "30          9          12         1             4\n",
       "31         10           1         1             1\n",
       "32         10           3         2             2\n",
       "33         10           5         2             4\n",
       "34         10           7         1             3"
      ]
     },
     "execution_count": 19,
     "metadata": {},
     "output_type": "execute_result"
    }
   ],
   "source": [
    "df_baskets"
   ]
  },
  {
   "cell_type": "code",
   "execution_count": null,
   "metadata": {
    "collapsed": true
   },
   "outputs": [],
   "source": []
  }
 ],
 "metadata": {
  "kernelspec": {
   "display_name": "Python 3",
   "language": "python",
   "name": "python3"
  },
  "language_info": {
   "codemirror_mode": {
    "name": "ipython",
    "version": 3
   },
   "file_extension": ".py",
   "mimetype": "text/x-python",
   "name": "python",
   "nbconvert_exporter": "python",
   "pygments_lexer": "ipython3",
   "version": "3.6.1"
  }
 },
 "nbformat": 4,
 "nbformat_minor": 2
}
